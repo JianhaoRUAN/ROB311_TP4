{
 "cells": [
  {
   "cell_type": "code",
   "execution_count": 415,
   "id": "10332265",
   "metadata": {},
   "outputs": [
    {
     "name": "stdout",
     "output_type": "stream",
     "text": [
      "train/angry number:  3171\n",
      "train/disgust number:  3995\n",
      "train/fear number:  4830\n",
      "train/happy number:  7215\n",
      "train/neutral number:  436\n",
      "train/sad number:  4097\n",
      "train/surprise number:  4965\n"
     ]
    }
   ],
   "source": [
    "import matplotlib.pyplot as plt\n",
    "import os\n",
    "path=\"train/\"\n",
    "folders=os.listdir(path)\n",
    "# from datetime import datetime\n",
    "import numpy as np\n",
    "\n",
    "# now = datetime.now()\n",
    "# current_time = now.strftime(\"%H:%M:%S\")\n",
    "# print(\"Current Time =\", current_time)\n",
    "\n",
    "lable_list=[] # save the emotion lable  [0 'angry', 1'disgust', 2'fear', 3'happy', 4'neutral', 5'sad', 6'surprise']\n",
    "imgs=[] #save the imamges\n",
    "\n",
    "for i in range(len(folders)):\n",
    "    path_emotion=path+folders[i]\n",
    "    filenames=sorted(os.listdir(path_emotion))      \n",
    "    #print(\"..................\")\n",
    "    #print(filenames)\n",
    "    for j in range(len(filenames)):\n",
    "        lable_list.append(i)\n",
    "        img=plt.imread(path_emotion+\"/\"+filenames[j])\n",
    "        imgs.append(img)\n",
    "print(\"train/angry number: \",lable_list.count(0))\n",
    "print(\"train/disgust number: \",lable_list.count(1))\n",
    "print(\"train/fear number: \",lable_list.count(2))\n",
    "print(\"train/happy number: \",lable_list.count(3))\n",
    "print(\"train/neutral number: \",lable_list.count(4))\n",
    "print(\"train/sad number: \",lable_list.count(5))\n",
    "print(\"train/surprise number: \",lable_list.count(6))"
   ]
  },
  {
   "cell_type": "code",
   "execution_count": 416,
   "id": "e37696d0",
   "metadata": {},
   "outputs": [
    {
     "name": "stdout",
     "output_type": "stream",
     "text": [
      "(28709, 48, 48) \n",
      " (28709,)\n"
     ]
    }
   ],
   "source": [
    "\n",
    "lable_np=np.array(lable_list)\n",
    "imgs_np=np.array(imgs)\n",
    "print(imgs_np.shape, \"\\n\" , lable_np.shape)\n",
    "\n",
    "\n"
   ]
  },
  {
   "cell_type": "code",
   "execution_count": 417,
   "id": "f07d7a63",
   "metadata": {},
   "outputs": [],
   "source": [
    "import numpy as np\n",
    "import matplotlib.pyplot as plt\n",
    "from matplotlib.colors import ListedColormap\n",
    "from sklearn import datasets\n",
    "from sklearn.model_selection import train_test_split\n",
    "from sklearn.preprocessing import StandardScaler\n",
    "from sklearn.neighbors import (KNeighborsClassifier,\n",
    "                               NeighborhoodComponentsAnalysis)\n",
    "from sklearn.pipeline import Pipeline\n",
    "X_train, X_test, y_train, y_test = train_test_split(imgs_np, lable_np, stratify=lable_np, test_size=0.7, random_state=42)\n"
   ]
  },
  {
   "cell_type": "code",
   "execution_count": 418,
   "id": "d0d54f19",
   "metadata": {},
   "outputs": [
    {
     "name": "stdout",
     "output_type": "stream",
     "text": [
      "x_train_shape (8612, 48, 48)\n",
      "X_test_shape (20097, 48, 48)\n",
      "y_train_shape (8612,)\n",
      "y_test_shape (20097,)\n"
     ]
    }
   ],
   "source": [
    "print('x_train_shape',X_train.shape)\n",
    "print('X_test_shape',X_test.shape)\n",
    "print('y_train_shape',y_train.shape)\n",
    "print('y_test_shape',y_test.shape)"
   ]
  },
  {
   "cell_type": "code",
   "execution_count": 419,
   "id": "d83e1e51",
   "metadata": {
    "scrolled": true
   },
   "outputs": [
    {
     "name": "stdout",
     "output_type": "stream",
     "text": [
      "(8612, 48, 48)\n"
     ]
    }
   ],
   "source": [
    "# LBP calculation\n",
    "import skimage.feature\n",
    "numpoints_lbp = 25\n",
    "radius_lbp = 5\n",
    "lbp_method = 'uniform'\n",
    "\n",
    "X_train_lbp = np.zeros(X_train.shape)\n",
    "for i in range(X_train.shape[0]):\n",
    "    X_train_lbp[i,:,:] = skimage.feature.local_binary_pattern(X_train[i,:,:], numpoints_lbp,radius_lbp,method=lbp_method)\n",
    "\n",
    "print(X_train_lbp.shape)"
   ]
  },
  {
   "cell_type": "code",
   "execution_count": 420,
   "id": "df3fe411",
   "metadata": {},
   "outputs": [
    {
     "data": {
      "image/png": "[encoded data removed]",
      "text/plain": [
       "<Figure size 432x288 with 1 Axes>"
      ]
     },
     "metadata": {
      "needs_background": "light"
     },
     "output_type": "display_data"
    }
   ],
   "source": [
    "plt.imshow(X_train_lbp[5,:,:])\n",
    "plt.show()\n"
   ]
  },
  {
   "cell_type": "code",
   "execution_count": 421,
   "id": "ab78e7ed",
   "metadata": {},
   "outputs": [
    {
     "name": "stdout",
     "output_type": "stream",
     "text": [
      "(8612, 16, 11)\n",
      "(8612, 16, 10)\n"
     ]
    }
   ],
   "source": [
    "# partition image into 4*4 regions \n",
    "# then calculate 16 historgram , 10 bins in historgramme for each region (10 * 16)\n",
    "N = 4\n",
    "n_bins = 10\n",
    "\n",
    "X_lbp_hist_16_counts = np.zeros([X_train.shape[0], N*N , n_bins ])\n",
    "X_lbp_hist_16_bins = np.zeros([X_train.shape[0], N*N , n_bins + 1 ])\n",
    "for i in range(X_train.shape[0]):\n",
    "    X_lbp = X_train_lbp[i,:,:]\n",
    "    for j in range(X_lbp_hist_16.shape[1]) :\n",
    "        ii = np.floor(j/N)\n",
    "        jj = j%N\n",
    "        h1 = int( ii*(48/N) )\n",
    "        h2 = int( (ii+1)*(48/N) )\n",
    "        w1 = int( jj*(48/N) )\n",
    "        w2 = int( (jj+1)*(48/N) )\n",
    "        counts, bins = np.histogram(X_lbp[ h1 : h2 ,  w1 : w2].flatten(), bins=n_bins, range=(0,9))\n",
    "        X_lbp_hist_16_counts[i,j,:] = counts\n",
    "        X_lbp_hist_16_bins[i,j,:] = bins\n",
    "\n",
    "print(X_lbp_hist_16_bins.shape)\n",
    "\n",
    "print(X_lbp_hist_16_counts.shape)"
   ]
  },
  {
   "cell_type": "code",
   "execution_count": 422,
   "id": "5cded206",
   "metadata": {},
   "outputs": [],
   "source": [
    "# Function calculate the 16 histogrammes for one image\n",
    "\n",
    "\n",
    "def NN_histogram(img_lbp,N,n_bins):\n",
    "    X_lbp_histNN_counts = np.zeros([N*N , n_bins ])\n",
    "    X_lbp_histNN_bins = np.zeros([N*N , n_bins+1 ])\n",
    "    for j in range(N*N) :\n",
    "        ii = np.floor(j/N)\n",
    "        jj = j%N\n",
    "        h1 = int( ii*(48/N) )\n",
    "        h2 = int( (ii+1)*(48/N) )\n",
    "        w1 = int( jj*(48/N) )\n",
    "        w2 = int( (jj+1)*(48/N) )\n",
    "        counts, bins = np.histogram(img_lbp[ h1 : h2 ,  w1 : w2].flatten(), bins=n_bins, range=(0,9))\n",
    "        X_lbp_histNN_counts[j,:] = counts\n",
    "        X_lbp_histNN_bins[j,:] = bins\n",
    "    return X_lbp_histNN_counts , X_lbp_histNN_bins\n",
    "\n"
   ]
  },
  {
   "cell_type": "code",
   "execution_count": 423,
   "id": "49b23ec4",
   "metadata": {},
   "outputs": [
    {
     "name": "stdout",
     "output_type": "stream",
     "text": [
      "(10,)\n"
     ]
    },
    {
     "data": {
      "text/plain": [
       "(array([5., 3., 3., 5., 6., 4., 1., 0., 2., 7.]),\n",
       " array([0. , 0.9, 1.8, 2.7, 3.6, 4.5, 5.4, 6.3, 7.2, 8.1, 9. ]),\n",
       " <BarContainer object of 10 artists>)"
      ]
     },
     "execution_count": 423,
     "metadata": {},
     "output_type": "execute_result"
    },
    {
     "data": {
      "image/png": "[encoded data removed]",
      "text/plain": [
       "<Figure size 432x288 with 1 Axes>"
      ]
     },
     "metadata": {
      "needs_background": "light"
     },
     "output_type": "display_data"
    }
   ],
   "source": [
    "# example usage NN_histogram(img_lbp,N,n_bins):\n",
    "N = 4\n",
    "n_bins = 10\n",
    "X_lbp = X_train_lbp[2,:,:]\n",
    "\n",
    "counts, bins = NN_histogram(X_lbp,N,n_bins)\n",
    "\n",
    "region = 5\n",
    "X_lbp_histNN_counts = counts[region,:]\n",
    "X_lbp_histNN_bins = bins[region,:]\n",
    "print(X_lbp_histNN_counts.shape)\n",
    "\n",
    "plt.hist(X_lbp_histNN_bins[:-1], X_lbp_histNN_bins, weights=X_lbp_histNN_counts)"
   ]
  },
  {
   "cell_type": "code",
   "execution_count": 424,
   "id": "2a2c8144",
   "metadata": {},
   "outputs": [
    {
     "name": "stdout",
     "output_type": "stream",
     "text": [
      "(8612, 160)\n"
     ]
    }
   ],
   "source": [
    "#flatten the histogram result  (8612, 16, 10) -> (8612, 160)\n",
    "X_lbp_hist_16_counts_160 = X_lbp_hist_16_counts.reshape([X_lbp_hist_16_counts.shape[0],X_lbp_hist_16_counts.shape[1] * X_lbp_hist_16_counts.shape[2]])\n",
    "print(X_lbp_hist_16_counts_160.shape)"
   ]
  },
  {
   "cell_type": "code",
   "execution_count": 425,
   "id": "be8c5eea",
   "metadata": {
    "scrolled": true
   },
   "outputs": [
    {
     "data": {
      "text/plain": [
       "KNeighborsClassifier(weights='distance')"
      ]
     },
     "execution_count": 425,
     "metadata": {},
     "output_type": "execute_result"
    }
   ],
   "source": [
    "# train the KNN\n",
    "from sklearn.neighbors import KNeighborsClassifier\n",
    "neigh = KNeighborsClassifier(n_neighbors=5, weights = 'distance' , p=2, metric='minkowski')#, metric='euclidean')\n",
    "neigh.fit(X_lbp_hist_16_counts_160, y_train)"
   ]
  },
  {
   "cell_type": "code",
   "execution_count": 385,
   "id": "9240681a",
   "metadata": {},
   "outputs": [],
   "source": [
    "#img_flat[np.isnan(img_flat)] = 0\n",
    "#img_flat[np.isinf(img_flat)] = 255"
   ]
  },
  {
   "cell_type": "code",
   "execution_count": 426,
   "id": "7682b53b",
   "metadata": {
    "scrolled": true
   },
   "outputs": [
    {
     "name": "stdout",
     "output_type": "stream",
     "text": [
      "accuracy for category  0  is  36.351351351351354 % \n",
      "\n",
      "accuracy for category  1  is  23.49785407725322 % \n",
      "\n",
      "accuracy for category  2  is  18.75184856551316 % \n",
      "\n",
      "accuracy for category  3  is  35.93347851910513 % \n",
      "\n",
      "accuracy for category  4  is  17.049180327868854 % \n",
      "\n",
      "accuracy for category  5  is  25.0 % \n",
      "\n",
      "accuracy for category  6  is  21.403912543153048 % \n",
      "\n"
     ]
    }
   ],
   "source": [
    "#test\n",
    "\n",
    "#for each category\n",
    "for cat in range(7):\n",
    "    img_cat = X_test[y_test == cat,:,:]\n",
    "    #for all images in cat\n",
    "    counter = 0\n",
    "    for i in range(img_cat.shape[0]):\n",
    "        img_test = img_cat[i,:,:]\n",
    "        img_test_lbp = skimage.feature.local_binary_pattern(img_test, numpoints_lbp,radius_lbp,method=lbp_method)\n",
    "        X_test_histNN_counts , X_test_histNN_bins =  NN_histogram(img_test_lbp,N,n_bins)\n",
    "        X_test_histNN_counts = X_test_histNN_counts.flatten()\n",
    "        #prediction\n",
    "        if neigh.predict(np.array([X_test_histNN_counts.flatten()])) == cat :\n",
    "            counter += 1\n",
    "    print(\"accuracy for category \" , cat , \" is \" , 100* counter/img_cat.shape[0] , \"% \\n\")\n",
    "            \n"
   ]
  },
  {
   "cell_type": "code",
   "execution_count": 114,
   "id": "57bbcba6",
   "metadata": {},
   "outputs": [],
   "source": [
    "# exemple image with historgramme on one region/16\n",
    "\n",
    "#category\n",
    "cat = 3\n",
    "img_cat = X_test[y_test == cat,:,:]\n",
    "\n",
    "rand = int(np.floor(np.random.uniform(0,1) * 100))\n",
    "#take one img\n",
    "img_test = img_cat[rand,:,:]\n",
    "plt.imshow(img_test)\n",
    "\n",
    "#calculate lbp\n",
    "img_test_lbp = skimage.feature.local_binary_pattern(img_test, 30,6,method='uniform')\n",
    "\n",
    "#4*4 roi histogramme\n",
    "N = 4\n",
    "n_bins = 10\n",
    "X_test_histNN_counts , X_test_histNN_bins =  NN_histogram(img_test_lbp,N,n_bins)\n",
    "#X_test_histNN_counts = X_test_histNN_counts.flatten()\n",
    "\n",
    "\n",
    "region = 10\n",
    "X_test_histNN_counts_roi = X_test_histNN_counts[region,:]\n",
    "X_test_histNN_bins_roi = X_test_histNN_bins[region,:]\n",
    "plt.figure()\n",
    "plt.hist(X_test_histNN_bins_roi[:-1], X_test_histNN_bins_roi, weights=X_test_histNN_counts_roi)\n",
    "\n",
    "\n",
    "X_test_histNN_counts = X_test_histNN_counts.flatten()\n",
    "print(neigh.predict(np.array([X_test_histNN_counts])) == 3)"
   ]
  },
  {
   "cell_type": "code",
   "execution_count": null,
   "id": "3a84e36c",
   "metadata": {},
   "outputs": [],
   "source": []
  },
  {
   "cell_type": "code",
   "execution_count": null,
   "id": "0ada6a9d",
   "metadata": {},
   "outputs": [],
   "source": []
  },
  {
   "cell_type": "code",
   "execution_count": null,
   "id": "b5e4f4fb",
   "metadata": {},
   "outputs": [],
   "source": []
  },
  {
   "cell_type": "code",
   "execution_count": null,
   "id": "19190cf6",
   "metadata": {},
   "outputs": [],
   "source": []
  },
  {
   "cell_type": "code",
   "execution_count": null,
   "id": "2cc7fa4f",
   "metadata": {},
   "outputs": [],
   "source": []
  },
  {
   "cell_type": "code",
   "execution_count": null,
   "id": "7820c244",
   "metadata": {},
   "outputs": [],
   "source": []
  },
  {
   "cell_type": "code",
   "execution_count": null,
   "id": "1f2e71f2",
   "metadata": {},
   "outputs": [],
   "source": []
  },
  {
   "cell_type": "code",
   "execution_count": null,
   "id": "33fa8f25",
   "metadata": {},
   "outputs": [],
   "source": []
  },
  {
   "cell_type": "code",
   "execution_count": null,
   "id": "6ecd7991",
   "metadata": {},
   "outputs": [],
   "source": []
  },
  {
   "cell_type": "code",
   "execution_count": null,
   "id": "c804b708",
   "metadata": {},
   "outputs": [],
   "source": []
  },
  {
   "cell_type": "code",
   "execution_count": null,
   "id": "76dd2fa0",
   "metadata": {},
   "outputs": [],
   "source": []
  },
  {
   "cell_type": "code",
   "execution_count": null,
   "id": "7c23726e",
   "metadata": {},
   "outputs": [],
   "source": []
  },
  {
   "cell_type": "code",
   "execution_count": null,
   "id": "53a1a68a",
   "metadata": {},
   "outputs": [],
   "source": []
  },
  {
   "cell_type": "code",
   "execution_count": null,
   "id": "633a777c",
   "metadata": {},
   "outputs": [],
   "source": []
  },
  {
   "cell_type": "code",
   "execution_count": null,
   "id": "9a223a30",
   "metadata": {},
   "outputs": [],
   "source": []
  }
 ],
 "metadata": {
  "kernelspec": {
   "display_name": "Python 3 (ipykernel)",
   "language": "python",
   "name": "python3"
  },
  "language_info": {
   "codemirror_mode": {
    "name": "ipython",
    "version": 3
   },
   "file_extension": ".py",
   "mimetype": "text/x-python",
   "name": "python",
   "nbconvert_exporter": "python",
   "pygments_lexer": "ipython3",
   "version": "3.8.10"
  }
 },
 "nbformat": 4,
 "nbformat_minor": 5
}
